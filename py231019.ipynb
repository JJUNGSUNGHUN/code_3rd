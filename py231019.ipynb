{
  "nbformat": 4,
  "nbformat_minor": 0,
  "metadata": {
    "colab": {
      "provenance": [],
      "authorship_tag": "ABX9TyNC/mtrVyR0+G0vplS8G+Bw",
      "include_colab_link": true
    },
    "kernelspec": {
      "name": "python3",
      "display_name": "Python 3"
    },
    "language_info": {
      "name": "python"
    }
  },
  "cells": [
    {
      "cell_type": "markdown",
      "metadata": {
        "id": "view-in-github",
        "colab_type": "text"
      },
      "source": [
        "<a href=\"https://colab.research.google.com/github/JJUNGSUNGHUN/code_3rd/blob/main/py231019.ipynb\" target=\"_parent\"><img src=\"https://colab.research.google.com/assets/colab-badge.svg\" alt=\"Open In Colab\"/></a>"
      ]
    },
    {
      "cell_type": "markdown",
      "source": [
        "1To_do List를 작성하시오.\n",
        "- 2023년 10월 19일 정성훈\n",
        "-(1) 09:20 도서관에서 책 빌리기\n",
        "-(2) 11:10 컴퓨팅적사고와 기초코딩 수업\n",
        "-(3) 13:00 점심식사\n",
        "-(4) 14:10 교양수업\n",
        "-(5) 16:00 파이썬 공부 및 레포트 작성\n",
        "-(6) 17:40 저녁식사 밒 집안일 돕기\n",
        "-(7) 19:00 LoL하기\n"
      ],
      "metadata": {
        "id": "3sitf3D_uLfp"
      }
    },
    {
      "cell_type": "code",
      "source": [
        "print(\"Hello world\")\n",
        "print(\"2023년 10월 19일 정성훈\")\n",
        "print(\"(1) 09:20 도서관에서 책 빌리기\")\n",
        "print(\"(2) 11:10 컴퓨팅적사고와 기초코딩 수업\")\n",
        "print(\"(3) 13:00 점심식사\")\n",
        "print(\"(4) 14:10 교양수업\")\n",
        "print(\"(5) 16:00 파이썬 공부 및 레포트 작성\")\n",
        "print(\"(6) 17:40 저녁식사 밒 집안일 돕기\")\n",
        "print(\"(7) 19:00 LoL하기\")"
      ],
      "metadata": {
        "colab": {
          "base_uri": "https://localhost:8080/"
        },
        "id": "XIzLaNIPyCuF",
        "outputId": "e538b80e-81fb-41e1-f66d-fd17dbf15f26"
      },
      "execution_count": 14,
      "outputs": [
        {
          "output_type": "stream",
          "name": "stdout",
          "text": [
            "Hello world\n",
            "2023년 10월 19일 정성훈\n",
            "(1) 09:20 도서관에서 책 빌리기\n",
            "(2) 11:10 컴퓨팅적사고와 기초코딩 수업\n",
            "(3) 13:00 점심식사\n",
            "(4) 14:10 교양수업\n",
            "(5) 16:00 파이썬 공부 및 레포트 작성\n",
            "(6) 17:40 저녁식사 밒 집안일 돕기\n",
            "(7) 19:00 LoL하기\n"
          ]
        }
      ]
    },
    {
      "cell_type": "markdown",
      "source": [
        "2. 인사말 출력하기\n",
        "- 식사하였습니다? 행님\n"
      ],
      "metadata": {
        "id": "HQAmu2kCwUOH"
      }
    },
    {
      "cell_type": "code",
      "source": [
        "print(\"hello world\")\n",
        "print(\"식사하였습니다? 형님.\")\n"
      ],
      "metadata": {
        "colab": {
          "base_uri": "https://localhost:8080/"
        },
        "id": "hmN2sVRJyyLs",
        "outputId": "c32ae30a-5d20-4ae5-dd34-5cbbff525570"
      },
      "execution_count": 12,
      "outputs": [
        {
          "output_type": "stream",
          "name": "stdout",
          "text": [
            "hello world\n",
            "식사하였습니다? 형님.\n"
          ]
        }
      ]
    },
    {
      "cell_type": "markdown",
      "source": [
        "3. 학생 4명의 국어점수를 입력받아서 아래와 같이 출력하시오\n",
        " - 박보검:90점\n",
        " -션    : 92점\n",
        " -도롱용: 80점\n",
        " -차은우:99점\n",
        " -국어 점수 순위\n",
        " -1등 차은우\n",
        " -2등 션\n",
        " -3등 박보검\n",
        " -4등 도롱용\n"
      ],
      "metadata": {
        "id": "x0T9v3oOwxGf"
      }
    },
    {
      "cell_type": "code",
      "source": [
        "print(\"hello world\")\n",
        "print(\"학생 4명의 국어점수를 입력받아서 아래와 같이 출력하시오\")\n",
        "박보검 = (input(\"박보검의 점수를 입력하시오.:\"))\n",
        "션 = (input(\"션의 점수를 입력하시오.:\"))\n",
        "도룡용 = (input(\"도룡용의 점수를 입력하시오.:\"))\n",
        "차은우 = (input(\"차은우의 점수를 입력하시오.:\"))\n",
        "print (\"1등\",\"차은우\" ,n4)\n",
        "print (\"2등\",\"션\" ,n2)\n",
        "print (\"3등\",\"박보검\", n3)\n",
        "print (\"4등\", \"도롱용\",n1)"
      ],
      "metadata": {
        "colab": {
          "base_uri": "https://localhost:8080/"
        },
        "id": "_1iREBSR1RS9",
        "outputId": "727dd069-4a47-4073-dcc2-a626679e41ed"
      },
      "execution_count": null,
      "outputs": [
        {
          "output_type": "stream",
          "name": "stdout",
          "text": [
            "hello world\n",
            "학생 4명의 국어점수를 입력받아서 아래와 같이 출력하시오\n"
          ]
        }
      ]
    },
    {
      "cell_type": "markdown",
      "source": [
        "4.두개의 점수를 입력받아서 합계와 평균을 출력하시오"
      ],
      "metadata": {
        "id": "C1TUWOR_xfwo"
      }
    },
    {
      "cell_type": "code",
      "source": [
        "n1 = int(input(\"N1의 값을 입력하시오.:\"))\n",
        "n2 = int(input(\"N2의 값을 입력하시오.:\"))\n",
        "total=n1+n2\n",
        "average=total/2\n",
        "print(average)\n"
      ],
      "metadata": {
        "colab": {
          "base_uri": "https://localhost:8080/"
        },
        "id": "swgFnKew5MK4",
        "outputId": "504ab2a3-4efe-45b7-fc28-39c7e4ca5403"
      },
      "execution_count": 31,
      "outputs": [
        {
          "output_type": "stream",
          "name": "stdout",
          "text": [
            "N1의 값을 입력하시오.:50\n",
            "N2의 값을 입력하시오.:50\n",
            "50.0\n"
          ]
        }
      ]
    },
    {
      "cell_type": "markdown",
      "source": [],
      "metadata": {
        "id": "sQnFM79pxusQ"
      }
    }
  ]
}