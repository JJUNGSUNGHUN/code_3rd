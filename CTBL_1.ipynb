{
  "nbformat": 4,
  "nbformat_minor": 0,
  "metadata": {
    "colab": {
      "provenance": [],
      "authorship_tag": "ABX9TyNzU5Z1HjqQ8msm0LJAPf9T",
      "include_colab_link": true
    },
    "kernelspec": {
      "name": "python3",
      "display_name": "Python 3"
    },
    "language_info": {
      "name": "python"
    }
  },
  "cells": [
    {
      "cell_type": "markdown",
      "metadata": {
        "id": "view-in-github",
        "colab_type": "text"
      },
      "source": [
        "<a href=\"https://colab.research.google.com/github/JJUNGSUNGHUN/code_3rd/blob/main/CTBL_1.ipynb\" target=\"_parent\"><img src=\"https://colab.research.google.com/assets/colab-badge.svg\" alt=\"Open In Colab\"/></a>"
      ]
    },
    {
      "cell_type": "code",
      "execution_count": null,
      "metadata": {
        "id": "ovSKS7CL1m6Y"
      },
      "outputs": [],
      "source": []
    },
    {
      "cell_type": "markdown",
      "source": [
        "1.학생으로부터 성적을 입력받아 합격유무를 출력하는 코드작성\n",
        "- 사용변수:Grade\n",
        "- 사용수식:Grade>=70"
      ],
      "metadata": {
        "id": "uMphlF1C1_OU"
      }
    },
    {
      "cell_type": "markdown",
      "source": [],
      "metadata": {
        "id": "UKjtN6AP4VbE"
      }
    },
    {
      "cell_type": "markdown",
      "source": [
        "2.쇼핑몰의 배송료를 계산하는 코드 작성\n",
        "- 변수명:price, shipping-cost\n",
        "- 수식: price>=20000\n",
        "- shpping_cost=3000"
      ],
      "metadata": {
        "id": "rEgNSv524Wxc"
      }
    },
    {
      "cell_type": "code",
      "source": [
        "price=int(input(\"구입금액 입력:\"))\n",
        "if price >=20000:\n",
        "  shipping_cost=0\n",
        "  print(f'구입금액이 {price}원 이상입니다.')\n",
        "else:\n",
        "  shipping_cost=3000\n",
        "  print(\"구입금액은 2만원 이하입니다\")\n",
        "print(f'회원님의 배송료는 {shipping_cost}입니다.')"
      ],
      "metadata": {
        "id": "D8VnAjAJ42pO"
      },
      "execution_count": null,
      "outputs": []
    },
    {
      "cell_type": "code",
      "source": [],
      "metadata": {
        "id": "yl4T4CXoFBX-"
      },
      "execution_count": null,
      "outputs": []
    },
    {
      "cell_type": "markdown",
      "source": [
        "3.근무시간에 따라 초과근무와 정상근무를 판별하는 코드작성\n",
        "- 변수:work_hour\n",
        "- 수식:>=,기준시간:72시간"
      ],
      "metadata": {
        "id": "gJ0Tab5y8LxN"
      }
    },
    {
      "cell_type": "code",
      "source": [
        "work_hour=int(input(\"근무시간 입력\"))\n",
        "  if work_hour>=72시간\n",
        "print(\"초과근무하였습니다.\")\n",
        "else:\n",
        "  print(\"정상근무하였습니다\")\n"
      ],
      "metadata": {
        "colab": {
          "base_uri": "https://localhost:8080/",
          "height": 147
        },
        "id": "Yx_U-HLy8nkS",
        "outputId": "852ae5a5-878c-4740-fb14-7eca22c263bd"
      },
      "execution_count": 19,
      "outputs": [
        {
          "output_type": "error",
          "ename": "IndentationError",
          "evalue": "ignored",
          "traceback": [
            "\u001b[0;36m  File \u001b[0;32m\"<ipython-input-19-8e072c4d65e8>\"\u001b[0;36m, line \u001b[0;32m2\u001b[0m\n\u001b[0;31m    if work_hour>=72시간\u001b[0m\n\u001b[0m    ^\u001b[0m\n\u001b[0;31mIndentationError\u001b[0m\u001b[0;31m:\u001b[0m unexpected indent\n"
          ]
        }
      ]
    },
    {
      "cell_type": "markdown",
      "source": [
        "4.정수를 입력받아서 짝수인지 홀수인지 판별하는 코드 작성\n",
        "- 변수:num\n",
        "- 수식:(num%2) !=0:"
      ],
      "metadata": {
        "id": "Bt7x1BMh-APf"
      }
    },
    {
      "cell_type": "code",
      "source": [
        "num=int(input(\"점수를 입력하시오:\"))\n",
        "if (num%2) !=0:\n",
        "  print(\"홀수입니다.\")\n",
        "else:\n",
        "    print(\"짝수입니다.\")\n"
      ],
      "metadata": {
        "colab": {
          "base_uri": "https://localhost:8080/"
        },
        "id": "pVdtJzT6-0ra",
        "outputId": "d6009ea0-ef7f-41bd-e077-cf372accd72a"
      },
      "execution_count": 24,
      "outputs": [
        {
          "output_type": "stream",
          "name": "stdout",
          "text": [
            "점수를 입력하시오:4\n",
            "짝수입니다.\n"
          ]
        }
      ]
    },
    {
      "cell_type": "markdown",
      "source": [
        "5.사용자의 이름과 나이를 입력받고, 답변하는 코드 작성\n",
        "- 입력:성명-name\n",
        "- 입력:나이-age\n",
        "- 수식:if age<=20:\n",
        "\n",
        "최종 출력물\n",
        "- 이름을 입력하시오.:***\n",
        "- 나이를 입력하시오.:**\n",
        "- (1) 프로그래밍을 배우는 최적의 나이입니다.\n",
        "- (2) 아직도 늦지 않았습니다. 도전정신"
      ],
      "metadata": {
        "id": "axQ1iblvAmzc"
      }
    },
    {
      "cell_type": "code",
      "source": [
        "name=input(\"이름을 입력하시오\")\n",
        "age=int(input(\"나이를 입력하시오\"))\n",
        "if age<=20:\n",
        "  print(\"프로그래밍을 배우는 최적의 나이입니다.\")\n",
        "else:\n",
        "    print(\"아직도 늦지 않았습니다. 도전정신\")\n",
        ""
      ],
      "metadata": {
        "colab": {
          "base_uri": "https://localhost:8080/",
          "height": 410
        },
        "id": "nFTAA_mCCf2U",
        "outputId": "76e3dbde-b50b-4e4c-a54b-c8246be41170"
      },
      "execution_count": 26,
      "outputs": [
        {
          "output_type": "error",
          "ename": "KeyboardInterrupt",
          "evalue": "ignored",
          "traceback": [
            "\u001b[0;31m---------------------------------------------------------------------------\u001b[0m",
            "\u001b[0;31mKeyboardInterrupt\u001b[0m                         Traceback (most recent call last)",
            "\u001b[0;32m<ipython-input-26-8316e8e75a0b>\u001b[0m in \u001b[0;36m<cell line: 1>\u001b[0;34m()\u001b[0m\n\u001b[0;32m----> 1\u001b[0;31m \u001b[0mname\u001b[0m\u001b[0;34m=\u001b[0m\u001b[0minput\u001b[0m\u001b[0;34m(\u001b[0m\u001b[0;34m\"이름을 입력하시오\"\u001b[0m\u001b[0;34m)\u001b[0m\u001b[0;34m\u001b[0m\u001b[0;34m\u001b[0m\u001b[0m\n\u001b[0m\u001b[1;32m      2\u001b[0m \u001b[0mage\u001b[0m\u001b[0;34m=\u001b[0m\u001b[0mint\u001b[0m\u001b[0;34m(\u001b[0m\u001b[0minput\u001b[0m\u001b[0;34m(\u001b[0m\u001b[0;34m\"나이를 입력하시오\"\u001b[0m\u001b[0;34m)\u001b[0m\u001b[0;34m)\u001b[0m\u001b[0;34m\u001b[0m\u001b[0;34m\u001b[0m\u001b[0m\n\u001b[1;32m      3\u001b[0m \u001b[0;32mif\u001b[0m \u001b[0mage\u001b[0m\u001b[0;34m<=\u001b[0m\u001b[0;36m20\u001b[0m\u001b[0;34m:\u001b[0m\u001b[0;34m\u001b[0m\u001b[0;34m\u001b[0m\u001b[0m\n\u001b[1;32m      4\u001b[0m   \u001b[0mprint\u001b[0m\u001b[0;34m(\u001b[0m\u001b[0;34m\"프로그래밍을 배우는 최적의 나이입니다.\"\u001b[0m\u001b[0;34m)\u001b[0m\u001b[0;34m\u001b[0m\u001b[0;34m\u001b[0m\u001b[0m\n\u001b[1;32m      5\u001b[0m \u001b[0;32melse\u001b[0m\u001b[0;34m:\u001b[0m\u001b[0;34m\u001b[0m\u001b[0;34m\u001b[0m\u001b[0m\n",
            "\u001b[0;32m/usr/local/lib/python3.10/dist-packages/ipykernel/kernelbase.py\u001b[0m in \u001b[0;36mraw_input\u001b[0;34m(self, prompt)\u001b[0m\n\u001b[1;32m    849\u001b[0m                 \u001b[0;34m\"raw_input was called, but this frontend does not support input requests.\"\u001b[0m\u001b[0;34m\u001b[0m\u001b[0;34m\u001b[0m\u001b[0m\n\u001b[1;32m    850\u001b[0m             )\n\u001b[0;32m--> 851\u001b[0;31m         return self._input_request(str(prompt),\n\u001b[0m\u001b[1;32m    852\u001b[0m             \u001b[0mself\u001b[0m\u001b[0;34m.\u001b[0m\u001b[0m_parent_ident\u001b[0m\u001b[0;34m,\u001b[0m\u001b[0;34m\u001b[0m\u001b[0;34m\u001b[0m\u001b[0m\n\u001b[1;32m    853\u001b[0m             \u001b[0mself\u001b[0m\u001b[0;34m.\u001b[0m\u001b[0m_parent_header\u001b[0m\u001b[0;34m,\u001b[0m\u001b[0;34m\u001b[0m\u001b[0;34m\u001b[0m\u001b[0m\n",
            "\u001b[0;32m/usr/local/lib/python3.10/dist-packages/ipykernel/kernelbase.py\u001b[0m in \u001b[0;36m_input_request\u001b[0;34m(self, prompt, ident, parent, password)\u001b[0m\n\u001b[1;32m    893\u001b[0m             \u001b[0;32mexcept\u001b[0m \u001b[0mKeyboardInterrupt\u001b[0m\u001b[0;34m:\u001b[0m\u001b[0;34m\u001b[0m\u001b[0;34m\u001b[0m\u001b[0m\n\u001b[1;32m    894\u001b[0m                 \u001b[0;31m# re-raise KeyboardInterrupt, to truncate traceback\u001b[0m\u001b[0;34m\u001b[0m\u001b[0;34m\u001b[0m\u001b[0m\n\u001b[0;32m--> 895\u001b[0;31m                 \u001b[0;32mraise\u001b[0m \u001b[0mKeyboardInterrupt\u001b[0m\u001b[0;34m(\u001b[0m\u001b[0;34m\"Interrupted by user\"\u001b[0m\u001b[0;34m)\u001b[0m \u001b[0;32mfrom\u001b[0m \u001b[0;32mNone\u001b[0m\u001b[0;34m\u001b[0m\u001b[0;34m\u001b[0m\u001b[0m\n\u001b[0m\u001b[1;32m    896\u001b[0m             \u001b[0;32mexcept\u001b[0m \u001b[0mException\u001b[0m \u001b[0;32mas\u001b[0m \u001b[0me\u001b[0m\u001b[0;34m:\u001b[0m\u001b[0;34m\u001b[0m\u001b[0;34m\u001b[0m\u001b[0m\n\u001b[1;32m    897\u001b[0m                 \u001b[0mself\u001b[0m\u001b[0;34m.\u001b[0m\u001b[0mlog\u001b[0m\u001b[0;34m.\u001b[0m\u001b[0mwarning\u001b[0m\u001b[0;34m(\u001b[0m\u001b[0;34m\"Invalid Message:\"\u001b[0m\u001b[0;34m,\u001b[0m \u001b[0mexc_info\u001b[0m\u001b[0;34m=\u001b[0m\u001b[0;32mTrue\u001b[0m\u001b[0;34m)\u001b[0m\u001b[0;34m\u001b[0m\u001b[0;34m\u001b[0m\u001b[0m\n",
            "\u001b[0;31mKeyboardInterrupt\u001b[0m: Interrupted by user"
          ]
        }
      ]
    },
    {
      "cell_type": "code",
      "source": [
        "import random  # 랜덤 모듈을 불러옵니다.\n",
        "\n",
        "def generate_lotto_numbers():  # 로또 번호를 생성하는 함수를 정의합니다.\n",
        "    lotto_numbers = []  # 로또 번호를 저장할 빈 리스트를 생성합니다.\n",
        "\n",
        "    while len(lotto_numbers) < 6:  # 로또 번호가 6개가 될 때까지 반복합니다.\n",
        "        num = random.randint(1, 45)  # 1부터 45까지의 숫자 중 랜덤하게 하나를 선택합니다.\n",
        "        if num not in lotto_numbers:  # 만약 선택한 숫자가 로또 번호에 없다면,\n",
        "            lotto_numbers.append(num)  # 그 숫자를 로또 번호에 추가합니다.\n",
        "\n",
        "    return sorted(lotto_numbers)  # 로또 번호를 정렬하여 반환합니다.\n",
        "\n",
        "print(generate_lotto_numbers())  # 로또 번호를 생성하고, 그 결과를 출력합니다.\n"
      ],
      "metadata": {
        "colab": {
          "base_uri": "https://localhost:8080/"
        },
        "id": "6nMAkbcYFDs7",
        "outputId": "ca1e2dce-cc0c-46f0-cc3d-d3466d355925"
      },
      "execution_count": 27,
      "outputs": [
        {
          "output_type": "stream",
          "name": "stdout",
          "text": [
            "[17, 25, 28, 36, 38, 43]\n"
          ]
        }
      ]
    },
    {
      "cell_type": "markdown",
      "source": [],
      "metadata": {
        "id": "Ztj3Y6Ec7_GO"
      }
    },
    {
      "cell_type": "code",
      "source": [
        "name=input(\"이름을 입력하시오\")  # 사용자로부터 이름을 입력받습니다.\n",
        "age=int(input(\"나이를 입력하시오\"))  # 사용자로부터 나이를 입력받습니다. 입력받은 나이는 문자열이므로 이를 정수로 변환합니다.\n",
        "\n",
        "if age<=20:  # 만약 나이가 20세 이하라면,\n",
        "    print(\"프로그래밍을 배우는 최적의 나이입니다.\")  # \"프로그래밍을 배우는 최적의 나이입니다.\"라는 메시지를 출력합니다.\n",
        "else:  # 그렇지 않다면, 즉 나이가 20세 초과라면,\n",
        "    print(\"아직도 늦지 않았습니다. 도전정신\")  # \"아직도 늦지 않았습니다. 도전정신\"이라는 메시지를 출력합니다.\n"
      ],
      "metadata": {
        "colab": {
          "base_uri": "https://localhost:8080/"
        },
        "id": "iCjThvZjGWFL",
        "outputId": "e9604237-a868-4227-e9fa-c740202a8116"
      },
      "execution_count": 28,
      "outputs": [
        {
          "output_type": "stream",
          "name": "stdout",
          "text": [
            "이름을 입력하시오20\n",
            "나이를 입력하시오2321\n",
            "아직도 늦지 않았습니다. 도전정신\n"
          ]
        }
      ]
    },
    {
      "cell_type": "markdown",
      "source": [],
      "metadata": {
        "id": "LKqGWT4k1sIc"
      }
    }
  ]
}